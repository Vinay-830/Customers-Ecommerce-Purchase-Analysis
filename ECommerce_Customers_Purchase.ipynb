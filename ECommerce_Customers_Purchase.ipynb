{
 "cells": [
  {
   "cell_type": "code",
   "execution_count": 0,
   "metadata": {
    "application/vnd.databricks.v1+cell": {
     "cellMetadata": {
      "byteLimit": 2048000,
      "rowLimit": 10000
     },
     "inputWidgets": {},
     "nuid": "b20b8e20-49db-4bcb-a490-a9d6849ef4d4",
     "showTitle": false,
     "title": ""
    }
   },
   "outputs": [],
   "source": [
    "import pyspark"
   ]
  },
  {
   "cell_type": "markdown",
   "metadata": {
    "application/vnd.databricks.v1+cell": {
     "cellMetadata": {},
     "inputWidgets": {},
     "nuid": "f305d88d-07ff-4291-a145-1ab9d6818778",
     "showTitle": false,
     "title": ""
    }
   },
   "source": [
    "# Load data to data frame"
   ]
  },
  {
   "cell_type": "code",
   "execution_count": 0,
   "metadata": {
    "application/vnd.databricks.v1+cell": {
     "cellMetadata": {
      "byteLimit": 2048000,
      "rowLimit": 10000
     },
     "inputWidgets": {},
     "nuid": "67c11356-e8fe-486f-81d0-e1e265b65218",
     "showTitle": false,
     "title": ""
    }
   },
   "outputs": [],
   "source": [
    "df = sqlContext.sql(\"SELECT * FROM  ecommerce_customers_3_csv\")"
   ]
  },
  {
   "cell_type": "code",
   "execution_count": 0,
   "metadata": {
    "application/vnd.databricks.v1+cell": {
     "cellMetadata": {
      "byteLimit": 2048000,
      "rowLimit": 10000
     },
     "inputWidgets": {},
     "nuid": "9598de57-64f9-4246-953e-4de7cd92dd31",
     "showTitle": false,
     "title": ""
    }
   },
   "outputs": [],
   "source": [
    "from pyspark.ml.linalg import Vectors\n",
    "from pyspark.ml.feature import VectorAssembler"
   ]
  },
  {
   "cell_type": "code",
   "execution_count": 0,
   "metadata": {
    "application/vnd.databricks.v1+cell": {
     "cellMetadata": {
      "byteLimit": 2048000,
      "rowLimit": 10000
     },
     "inputWidgets": {},
     "nuid": "acb89a9c-5d32-4f42-b835-b32aaa70f74b",
     "showTitle": false,
     "title": ""
    }
   },
   "outputs": [
    {
     "output_type": "stream",
     "name": "stdout",
     "output_type": "stream",
     "text": [
      "Out[11]: ['Email',\n 'Address',\n 'Avatar',\n 'Avg Session Length',\n 'Time on App',\n 'Time on Website',\n 'Length of Membership',\n 'Yearly Amount Spent']"
     ]
    }
   ],
   "source": [
    "df.columns"
   ]
  },
  {
   "cell_type": "code",
   "execution_count": 0,
   "metadata": {
    "application/vnd.databricks.v1+cell": {
     "cellMetadata": {
      "byteLimit": 2048000,
      "rowLimit": 10000
     },
     "inputWidgets": {},
     "nuid": "22629248-6d0b-4a33-974e-2541e07c4062",
     "showTitle": false,
     "title": ""
    }
   },
   "outputs": [
    {
     "output_type": "stream",
     "name": "stdout",
     "output_type": "stream",
     "text": [
      "+-------+-----------------+--------------------+-----------+------------------+------------------+------------------+--------------------+-------------------+\n|summary|            Email|             Address|     Avatar|Avg Session Length|       Time on App|   Time on Website|Length of Membership|Yearly Amount Spent|\n+-------+-----------------+--------------------+-----------+------------------+------------------+------------------+--------------------+-------------------+\n|  count|              500|                 500|        500|               500|               500|               500|                 500|                500|\n|   mean|             null|                null|       null| 33.05319351819619|12.052487937166134| 37.06044542094859|   3.533461555915055|  499.3140382585909|\n| stddev|             null|                null|       null|0.9925631110845354|0.9942156084725424|1.0104889067564033|  0.9992775024112585|   79.3147815497068|\n|    min|aaron04@yahoo.com|0001 Mack MillNor...|  AliceBlue|29.532428967057943| 8.508152176032603| 33.91384724758464|  0.2699010899842742| 256.67058229005585|\n|    max|zscott@wright.com|Unit 7502 Box 834...|YellowGreen| 36.13966248879052|15.126994288792467|40.005181638101895|   6.922689335035808|  765.5184619388373|\n+-------+-----------------+--------------------+-----------+------------------+------------------+------------------+--------------------+-------------------+\n\n"
     ]
    }
   ],
   "source": [
    "df.describe().show()"
   ]
  },
  {
   "cell_type": "markdown",
   "metadata": {
    "application/vnd.databricks.v1+cell": {
     "cellMetadata": {},
     "inputWidgets": {},
     "nuid": "13ccce08-9cbe-44d6-9fe6-a2a6ef1221d9",
     "showTitle": false,
     "title": ""
    }
   },
   "source": [
    "## Groups the features columns into single column"
   ]
  },
  {
   "cell_type": "code",
   "execution_count": 0,
   "metadata": {
    "application/vnd.databricks.v1+cell": {
     "cellMetadata": {
      "byteLimit": 2048000,
      "rowLimit": 10000
     },
     "inputWidgets": {},
     "nuid": "f69f976e-43d7-4ab3-8674-1b26488996ff",
     "showTitle": false,
     "title": ""
    }
   },
   "outputs": [],
   "source": [
    "assembler = VectorAssembler(inputCols=['Avg Session Length',\n",
    " 'Time on App',\n",
    " 'Time on Website',\n",
    " 'Length of Membership'], outputCol=\"features\")"
   ]
  },
  {
   "cell_type": "code",
   "execution_count": 0,
   "metadata": {
    "application/vnd.databricks.v1+cell": {
     "cellMetadata": {
      "byteLimit": 2048000,
      "rowLimit": 10000
     },
     "inputWidgets": {},
     "nuid": "891e29b6-ba31-4509-9c77-54c3317f7c8e",
     "showTitle": false,
     "title": ""
    }
   },
   "outputs": [],
   "source": [
    "output = assembler.transform(df)"
   ]
  },
  {
   "cell_type": "code",
   "execution_count": 0,
   "metadata": {
    "application/vnd.databricks.v1+cell": {
     "cellMetadata": {
      "byteLimit": 2048000,
      "rowLimit": 10000
     },
     "inputWidgets": {},
     "nuid": "6dc38cac-f67f-4efd-8922-0f43ffe1a0a8",
     "showTitle": false,
     "title": ""
    }
   },
   "outputs": [],
   "source": [
    "final_data = output.select('features',\n",
    " 'Yearly Amount Spent')"
   ]
  },
  {
   "cell_type": "markdown",
   "metadata": {
    "application/vnd.databricks.v1+cell": {
     "cellMetadata": {},
     "inputWidgets": {},
     "nuid": "5ac7fd08-25a3-49ed-9e3e-1ab6c6375019",
     "showTitle": false,
     "title": ""
    }
   },
   "source": [
    "## Split the data into train and test data in 70-30"
   ]
  },
  {
   "cell_type": "code",
   "execution_count": 0,
   "metadata": {
    "application/vnd.databricks.v1+cell": {
     "cellMetadata": {
      "byteLimit": 2048000,
      "rowLimit": 10000
     },
     "inputWidgets": {},
     "nuid": "7d2547b6-0671-437e-a363-79b22c96b635",
     "showTitle": false,
     "title": ""
    }
   },
   "outputs": [],
   "source": [
    "train, test = final_data.randomSplit([0.7, 0.3])"
   ]
  },
  {
   "cell_type": "markdown",
   "metadata": {
    "application/vnd.databricks.v1+cell": {
     "cellMetadata": {},
     "inputWidgets": {},
     "nuid": "24a93673-cbf0-48c4-a7b8-5090029976b5",
     "showTitle": false,
     "title": ""
    }
   },
   "source": [
    "# Linear Regression"
   ]
  },
  {
   "cell_type": "markdown",
   "metadata": {
    "application/vnd.databricks.v1+cell": {
     "cellMetadata": {},
     "inputWidgets": {},
     "nuid": "bd4579d6-6fdf-409a-b460-aa050a415534",
     "showTitle": false,
     "title": ""
    }
   },
   "source": [
    "## Import and Create Linear Regression Object"
   ]
  },
  {
   "cell_type": "code",
   "execution_count": 0,
   "metadata": {
    "application/vnd.databricks.v1+cell": {
     "cellMetadata": {
      "byteLimit": 2048000,
      "rowLimit": 10000
     },
     "inputWidgets": {},
     "nuid": "0ba39f6f-95cf-4719-9342-a64f2719ba2b",
     "showTitle": false,
     "title": ""
    }
   },
   "outputs": [],
   "source": [
    "from pyspark.ml.regression import LinearRegression\n",
    "\n",
    "lr = LinearRegression(featuresCol='features', labelCol='Yearly Amount Spent', predictionCol='prediction')"
   ]
  },
  {
   "cell_type": "markdown",
   "metadata": {
    "application/vnd.databricks.v1+cell": {
     "cellMetadata": {},
     "inputWidgets": {},
     "nuid": "820924da-2663-4ca6-89b7-a273de78ec3b",
     "showTitle": false,
     "title": ""
    }
   },
   "source": [
    "## Train the model using Training Data"
   ]
  },
  {
   "cell_type": "code",
   "execution_count": 0,
   "metadata": {
    "application/vnd.databricks.v1+cell": {
     "cellMetadata": {
      "byteLimit": 2048000,
      "rowLimit": 10000
     },
     "inputWidgets": {},
     "nuid": "b02d9105-8d44-460d-9978-412b1dc5cbe9",
     "showTitle": false,
     "title": ""
    }
   },
   "outputs": [],
   "source": [
    "model = lr.fit(train)"
   ]
  },
  {
   "cell_type": "markdown",
   "metadata": {
    "application/vnd.databricks.v1+cell": {
     "cellMetadata": {},
     "inputWidgets": {},
     "nuid": "a49210a8-ec73-4830-ae90-59df40275262",
     "showTitle": false,
     "title": ""
    }
   },
   "source": [
    "## Text the model using test data"
   ]
  },
  {
   "cell_type": "code",
   "execution_count": 0,
   "metadata": {
    "application/vnd.databricks.v1+cell": {
     "cellMetadata": {
      "byteLimit": 2048000,
      "rowLimit": 10000
     },
     "inputWidgets": {},
     "nuid": "015b247f-5cac-4da7-b35a-241a7935c2e7",
     "showTitle": false,
     "title": ""
    }
   },
   "outputs": [],
   "source": [
    "result = model.evaluate(test)"
   ]
  },
  {
   "cell_type": "markdown",
   "metadata": {
    "application/vnd.databricks.v1+cell": {
     "cellMetadata": {},
     "inputWidgets": {},
     "nuid": "ed8d24b5-5529-4c66-96ed-e3286b74d16b",
     "showTitle": false,
     "title": ""
    }
   },
   "source": [
    "## Evaluation"
   ]
  },
  {
   "cell_type": "code",
   "execution_count": 0,
   "metadata": {
    "application/vnd.databricks.v1+cell": {
     "cellMetadata": {
      "byteLimit": 2048000,
      "rowLimit": 10000
     },
     "inputWidgets": {},
     "nuid": "de377588-ca0e-4be1-8cf3-b4c6418e6dba",
     "showTitle": false,
     "title": ""
    }
   },
   "outputs": [
    {
     "output_type": "stream",
     "name": "stdout",
     "output_type": "stream",
     "text": [
      "4.3658738044790784e-12\n1.0\n"
     ]
    }
   ],
   "source": [
    "print(result.rootMeanSquaredError)\n",
    "print(result.r2)"
   ]
  },
  {
   "cell_type": "code",
   "execution_count": 0,
   "metadata": {
    "application/vnd.databricks.v1+cell": {
     "cellMetadata": {
      "byteLimit": 2048000,
      "rowLimit": 10000
     },
     "inputWidgets": {},
     "nuid": "ba78fb99-b67f-4731-b85f-ba4a8941dedb",
     "showTitle": false,
     "title": ""
    }
   },
   "outputs": [
    {
     "output_type": "stream",
     "name": "stdout",
     "output_type": "stream",
     "text": [
      "+--------------------+\n|           residuals|\n+--------------------+\n|-4.03588273911736...|\n|3.353761712787673...|\n|-6.70752342557534...|\n|-1.70530256582424...|\n|-1.59161572810262...|\n|-1.59161572810262...|\n|-5.11590769747272...|\n|-1.47792889038100...|\n|1.648459146963432...|\n|6.480149750132114...|\n|2.046363078989088...|\n|-1.59161572810262...|\n|4.547473508864641...|\n|-2.67164068645797...|\n|2.273736754432320...|\n|-6.19593265582807...|\n|-4.77484718430787...|\n|-4.71800376544706...|\n|1.762145984685048...|\n|-6.82121026329696...|\n+--------------------+\nonly showing top 20 rows\n\n"
     ]
    }
   ],
   "source": [
    "result.residuals.show()"
   ]
  }
 ],
 "metadata": {
  "application/vnd.databricks.v1+notebook": {
   "dashboards": [],
   "language": "python",
   "notebookMetadata": {
    "pythonIndentUnit": 4
   },
   "notebookName": "ECommerce_Customers_Purchase",
   "widgets": {}
  }
 },
 "nbformat": 4,
 "nbformat_minor": 0
}
